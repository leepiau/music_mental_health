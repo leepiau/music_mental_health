{
 "cells": [
  {
   "cell_type": "markdown",
   "id": "d54713f2",
   "metadata": {},
   "source": [
    "# Import libraries"
   ]
  },
  {
   "cell_type": "code",
   "execution_count": null,
   "id": "5f288abe",
   "metadata": {},
   "outputs": [],
   "source": [
    "import spotipy\n",
    "from spotipy.oauth2 import SpotifyClientCredentials\n",
    "import pandas as pd\n",
    "import psycopg2"
   ]
  },
  {
   "cell_type": "markdown",
   "id": "115dcbc3",
   "metadata": {},
   "source": [
    "# Retrieve data from Spotify, 3 songs for each genre"
   ]
  },
  {
   "cell_type": "code",
   "execution_count": null,
   "id": "11139ebb",
   "metadata": {},
   "outputs": [],
   "source": [
    "# Set your Spotify API credentials\n",
    "client_id = '6c2ff081fe494968a2e3a618c678fd62'\n",
    "client_secret = '99da4179a82f4f999058535d8d9b47dc'"
   ]
  },
  {
   "cell_type": "code",
   "execution_count": null,
   "id": "88c4735f",
   "metadata": {},
   "outputs": [],
   "source": [
    "# Initialize the Spotipy client\n",
    "sp = spotipy.Spotify(client_credentials_manager=SpotifyClientCredentials(client_id, client_secret))"
   ]
  },
  {
   "cell_type": "code",
   "execution_count": null,
   "id": "860f5853",
   "metadata": {},
   "outputs": [],
   "source": [
    "# Define seed genres\n",
    "seed_genres = ['anime', 'classical', 'country', 'chill', 'edm', 'folk', 'gospel', 'hip-hop', 'jazz', 'k-pop', 'latin', 'metal', 'pop', 'r-n-b', 'rock']"
   ]
  },
  {
   "cell_type": "code",
   "execution_count": null,
   "id": "05e05a8e",
   "metadata": {},
   "outputs": [],
   "source": [
    "# Initialize an empty list to store track data\n",
    "all_track_data = []"
   ]
  },
  {
   "cell_type": "code",
   "execution_count": null,
   "id": "50f7ace9",
   "metadata": {},
   "outputs": [],
   "source": [
    "# Get recommended tracks for each seed genre\n",
    "for seed_genre in seed_genres:\n",
    "    recommended_tracks = sp.recommendations(seed_genres=[seed_genre], limit=3, country=\"SG\")\n",
    "    for track in recommended_tracks[\"tracks\"]:\n",
    "        track_data = {\n",
    "            \"track_name\": track[\"name\"],\n",
    "            \"artist\": \", \".join(artist[\"name\"] for artist in track[\"artists\"]),\n",
    "            \"album\": track[\"album\"][\"name\"],\n",
    "            \"genre\": seed_genre,\n",
    "            \"preview_url\": track[\"preview_url\"]\n",
    "        }\n",
    "        all_track_data.append(track_data)"
   ]
  },
  {
   "cell_type": "markdown",
   "id": "4cefa6ec",
   "metadata": {},
   "source": [
    "# Convert Spotify data to dataframe and inspect data"
   ]
  },
  {
   "cell_type": "code",
   "execution_count": null,
   "id": "df4bf6ac",
   "metadata": {},
   "outputs": [],
   "source": [
    "# Create a DataFrame from the track data\n",
    "df = pd.DataFrame(all_track_data)"
   ]
  },
  {
   "cell_type": "code",
   "execution_count": null,
   "id": "777b5e55",
   "metadata": {},
   "outputs": [],
   "source": [
    "# take a look at # of rows/columns\n",
    "print(df.shape)"
   ]
  },
  {
   "cell_type": "code",
   "execution_count": null,
   "id": "16e5b2cc",
   "metadata": {},
   "outputs": [],
   "source": [
    "# Print the DataFrame\n",
    "print(df.head())"
   ]
  },
  {
   "cell_type": "code",
   "execution_count": null,
   "id": "a5098e00",
   "metadata": {},
   "outputs": [],
   "source": [
    "# check % of nulls in each column\n",
    "total_nulls = df.isnull().sum()\n",
    "percent_missing = total_nulls * 100 / len(df)\n",
    "print(percent_missing)"
   ]
  },
  {
   "cell_type": "code",
   "execution_count": null,
   "id": "efbf38e8",
   "metadata": {},
   "outputs": [],
   "source": [
    "print(df[df.duplicated()])"
   ]
  },
  {
   "cell_type": "markdown",
   "id": "ae74a620",
   "metadata": {},
   "source": [
    "# Connect to DB , create table and load data into DB"
   ]
  },
  {
   "cell_type": "code",
   "execution_count": null,
   "id": "e9819d3c",
   "metadata": {},
   "outputs": [],
   "source": [
    "# # Connect to PostgreSQL database\n",
    "db_params = {\n",
    "    \"host\": \"localhost\",\n",
    "    \"dbname\": \"mmh_1\",  # Replace with your desired database name\n",
    "    \"user\": \"postgres\",  # Replace with your PostgreSQL username\n",
    "    \"password\": \"admin\",  # Replace with your PostgreSQL password\n",
    "    \"port\": \"5432\" # Replace with your PostgreSQL port\n",
    "}"
   ]
  },
  {
   "cell_type": "code",
   "execution_count": null,
   "id": "8e2b6ef0",
   "metadata": {},
   "outputs": [],
   "source": [
    "conn = psycopg2.connect(**db_params)\n",
    "cur = conn.cursor()"
   ]
  },
  {
   "cell_type": "code",
   "execution_count": null,
   "id": "d197466c",
   "metadata": {},
   "outputs": [],
   "source": [
    "# Create a table (if not exists)\n",
    "cur.execute(\"\"\"\n",
    "    CREATE TABLE IF NOT EXISTS recommended_tracks (\n",
    "        track_name VARCHAR,\n",
    "        artist VARCHAR,\n",
    "        album VARCHAR,\n",
    "        genre VARCHAR,\n",
    "        preview_url VARCHAR\n",
    "    )\n",
    "\"\"\")\n",
    "conn.commit()"
   ]
  },
  {
   "cell_type": "code",
   "execution_count": null,
   "id": "8dfcef29",
   "metadata": {},
   "outputs": [],
   "source": [
    "# # Insert data into the table\n",
    "for _, row in df.iterrows():\n",
    "    cur.execute(\"\"\"\n",
    "        INSERT INTO recommended_tracks (track_name, artist, album, genre, preview_url)\n",
    "        VALUES (%s, %s, %s, %s, %s)\n",
    "    \"\"\", (row[\"track_name\"], row[\"artist\"], row[\"album\"], row[\"genre\"], row[\"preview_url\"]))\n",
    "\n",
    "conn.commit()\n",
    "conn.close()"
   ]
  }
 ],
 "metadata": {
  "kernelspec": {
   "display_name": "Python 3 (ipykernel)",
   "language": "python",
   "name": "python3"
  },
  "language_info": {
   "codemirror_mode": {
    "name": "ipython",
    "version": 3
   },
   "file_extension": ".py",
   "mimetype": "text/x-python",
   "name": "python",
   "nbconvert_exporter": "python",
   "pygments_lexer": "ipython3",
   "version": "3.11.5"
  }
 },
 "nbformat": 4,
 "nbformat_minor": 5
}
