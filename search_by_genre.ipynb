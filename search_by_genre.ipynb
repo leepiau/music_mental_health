{
 "cells": [
  {
   "cell_type": "code",
   "execution_count": null,
   "id": "33035edf",
   "metadata": {},
   "outputs": [],
   "source": [
    "import requests\n",
    "\n",
    "# to parse the json file\n",
    "import json "
   ]
  },
  {
   "cell_type": "code",
   "execution_count": null,
   "id": "556232fd",
   "metadata": {},
   "outputs": [],
   "source": [
    "# found this here: \n",
    "# https://medium.com/@sharath.ravi/python-function-to-extract-specific-key-value-pair-from-json-data-7c063ecb5a15 \n",
    "\n",
    "def extract_key_value(json_data, key):\n",
    "    \"\"\"Extracts a specific key-value pair from a JSON data\"\"\"\n",
    "    data = json.loads(json_data)\n",
    "    value = data.get(key)\n",
    "    return value"
   ]
  },
  {
   "cell_type": "code",
   "execution_count": null,
   "id": "7f673a2e",
   "metadata": {},
   "outputs": [],
   "source": [
    "# Define the API endpoint\n",
    "url = \"https://accounts.spotify.com/api/token\""
   ]
  },
  {
   "cell_type": "code",
   "execution_count": null,
   "id": "58be42c0",
   "metadata": {},
   "outputs": [],
   "source": [
    "# Define the payload data\n",
    "# your credentials here\n",
    "\n",
    "data = {\n",
    "    \"grant_type\": \"client_credentials\",\n",
    "    \"client_id\": \"your_id\",\n",
    "    \"client_secret\": \"your_secret\"\n",
    "}"
   ]
  },
  {
   "cell_type": "code",
   "execution_count": null,
   "id": "bbe8a909",
   "metadata": {},
   "outputs": [],
   "source": [
    "# Make a POST request\n",
    "response = requests.post(url, data=data)\n",
    "\n",
    "# Print the response content\n",
    "print(response.content.decode(\"utf-8\"))"
   ]
  },
  {
   "cell_type": "code",
   "execution_count": null,
   "id": "5fb2bce5",
   "metadata": {},
   "outputs": [],
   "source": [
    "# Define the API endpoint\n",
    "url = 'https://api.spotify.com/v1/search?q=genre%3Dcountry&type=album'"
   ]
  },
  {
   "cell_type": "code",
   "execution_count": null,
   "id": "81321dc4",
   "metadata": {},
   "outputs": [],
   "source": [
    "# Define the authorization header\n",
    "# your token here\n",
    "\n",
    "headers = {\n",
    "    \"Authorization\": \"Bearer your_token\"\n",
    "}"
   ]
  },
  {
   "cell_type": "code",
   "execution_count": null,
   "id": "609575ea",
   "metadata": {},
   "outputs": [],
   "source": [
    "# Make a GET request\n",
    "response = requests.get(url, headers=headers)\n",
    "\n",
    "# Print the response content\n",
    "print(response.content.decode(\"utf-8\"))"
   ]
  },
  {
   "cell_type": "code",
   "execution_count": null,
   "id": "3b140817",
   "metadata": {},
   "outputs": [],
   "source": [
    "# assign an object to the return\n",
    "\n",
    "genre = response.content.decode(\"utf-8\")"
   ]
  },
  {
   "cell_type": "code",
   "execution_count": null,
   "id": "2adfd298",
   "metadata": {},
   "outputs": [],
   "source": [
    "# attempt to extract title - FAIL \n",
    "title = extract_key_value(genre, \"album\")"
   ]
  },
  {
   "cell_type": "code",
   "execution_count": null,
   "id": "a807109c",
   "metadata": {},
   "outputs": [],
   "source": [
    "# attempt to print title - FAIL \n",
    "print(title)"
   ]
  },
  {
   "cell_type": "code",
   "execution_count": null,
   "id": "09e5636d",
   "metadata": {},
   "outputs": [],
   "source": []
  }
 ],
 "metadata": {
  "kernelspec": {
   "display_name": "Python 3 (ipykernel)",
   "language": "python",
   "name": "python3"
  },
  "language_info": {
   "codemirror_mode": {
    "name": "ipython",
    "version": 3
   },
   "file_extension": ".py",
   "mimetype": "text/x-python",
   "name": "python",
   "nbconvert_exporter": "python",
   "pygments_lexer": "ipython3",
   "version": "3.11.5"
  }
 },
 "nbformat": 4,
 "nbformat_minor": 5
}
