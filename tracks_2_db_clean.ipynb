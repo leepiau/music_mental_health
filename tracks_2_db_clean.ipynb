{
 "cells": [
  {
   "cell_type": "code",
   "execution_count": null,
   "id": "7da546ee",
   "metadata": {},
   "outputs": [],
   "source": [
    "import spotipy\n",
    "from spotipy.oauth2 import SpotifyClientCredentials\n",
    "import pandas as pd\n",
    "import psycopg2"
   ]
  },
  {
   "cell_type": "code",
   "execution_count": null,
   "id": "0b28d616",
   "metadata": {},
   "outputs": [],
   "source": [
    "# Set your Spotify API credentials\n",
    "client_id = \"your_id\"\n",
    "client_secret = \"your_secret\""
   ]
  },
  {
   "cell_type": "code",
   "execution_count": null,
   "id": "26f8d8e4",
   "metadata": {},
   "outputs": [],
   "source": [
    "# Initialize the Spotipy client\n",
    "sp = spotipy.Spotify(client_credentials_manager=SpotifyClientCredentials(client_id, client_secret))"
   ]
  },
  {
   "cell_type": "code",
   "execution_count": null,
   "id": "120dd1c7",
   "metadata": {},
   "outputs": [],
   "source": [
    "# Define seed genres\n",
    "seed_genres = [\"classical\", \"country\", \"chill\", \"edm\", \"folk\", \"gospel\", \"hip-hop\", \"jazz\", \"k-pop\", \"latin\", \"metal\", \"pop\", \"r-n-b\", \"rock\", \"minimal-techno\"]"
   ]
  },
  {
   "cell_type": "code",
   "execution_count": null,
   "id": "6c35dfd8",
   "metadata": {},
   "outputs": [],
   "source": [
    "# Initialize an empty list to store track data\n",
    "all_track_data = []"
   ]
  },
  {
   "cell_type": "code",
   "execution_count": null,
   "id": "a8be1d76",
   "metadata": {},
   "outputs": [],
   "source": [
    "# Get recommended tracks for each seed genre\n",
    "for seed_genre in seed_genres:\n",
    "    recommended_tracks = sp.recommendations(seed_genres=[seed_genre], limit=3)\n",
    "    for track in recommended_tracks[\"tracks\"]:\n",
    "        track_data = {\n",
    "            \"track_name\": track[\"name\"],\n",
    "            \"artist\": \", \".join(artist[\"name\"] for artist in track[\"artists\"]),\n",
    "            \"album\": track[\"album\"][\"name\"],\n",
    "            \"genre\": seed_genre,\n",
    "            \"preview_url\": track[\"preview_url\"]\n",
    "        }\n",
    "        all_track_data.append(track_data)"
   ]
  },
  {
   "cell_type": "code",
   "execution_count": null,
   "id": "1cb1f085",
   "metadata": {},
   "outputs": [],
   "source": [
    "# Create a DataFrame from the track data\n",
    "df = pd.DataFrame(all_track_data)"
   ]
  },
  {
   "cell_type": "code",
   "execution_count": null,
   "id": "6e28aee6",
   "metadata": {},
   "outputs": [],
   "source": [
    "# Print the DataFrame\n",
    "print(df)"
   ]
  },
  {
   "cell_type": "code",
   "execution_count": null,
   "id": "2de84307",
   "metadata": {},
   "outputs": [],
   "source": [
    "# # Connect to PostgreSQL database\n",
    "db_params = {\n",
    "    \"host\": \"localhost\",\n",
    "    \"dbname\": \"xx\",  # Replace with your desired database name\n",
    "    \"user\": \"xx\",  # Replace with your PostgreSQL username\n",
    "    \"password\": \"xx\",  # Replace with your PostgreSQL password\n",
    "    \"port\": \"xx\" # Replace with your PostgreSQL port\n",
    "}"
   ]
  },
  {
   "cell_type": "code",
   "execution_count": null,
   "id": "e340ea09",
   "metadata": {},
   "outputs": [],
   "source": [
    "conn = psycopg2.connect(**db_params)\n",
    "cur = conn.cursor()"
   ]
  },
  {
   "cell_type": "code",
   "execution_count": null,
   "id": "510c839f",
   "metadata": {},
   "outputs": [],
   "source": [
    "# Create a table (if not exists)\n",
    "cur.execute(\"\"\"\n",
    "    CREATE TABLE IF NOT EXISTS recommended_tracks (\n",
    "        track_name VARCHAR,\n",
    "        artist VARCHAR,\n",
    "        album VARCHAR,\n",
    "        genre VARCHAR,\n",
    "        preview_url VARCHAR\n",
    "    )\n",
    "\"\"\")\n",
    "conn.commit()"
   ]
  },
  {
   "cell_type": "code",
   "execution_count": null,
   "id": "05641289",
   "metadata": {},
   "outputs": [],
   "source": [
    "# # Insert data into the table\n",
    "for _, row in df.iterrows():\n",
    "    cur.execute(\"\"\"\n",
    "        INSERT INTO recommended_tracks (track_name, artist, album, genre, preview_url)\n",
    "        VALUES (%s, %s, %s, %s, %s)\n",
    "    \"\"\", (row[\"track_name\"], row[\"artist\"], row[\"album\"], row[\"genre\"], row[\"preview_url\"]))\n",
    "\n",
    "conn.commit()\n",
    "conn.close()"
   ]
  }
 ],
 "metadata": {
  "kernelspec": {
   "display_name": "Python 3 (ipykernel)",
   "language": "python",
   "name": "python3"
  },
  "language_info": {
   "codemirror_mode": {
    "name": "ipython",
    "version": 3
   },
   "file_extension": ".py",
   "mimetype": "text/x-python",
   "name": "python",
   "nbconvert_exporter": "python",
   "pygments_lexer": "ipython3",
   "version": "3.11.5"
  }
 },
 "nbformat": 4,
 "nbformat_minor": 5
}
