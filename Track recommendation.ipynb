{
 "cells": [
  {
   "cell_type": "code",
   "execution_count": 1,
   "id": "afa74b62",
   "metadata": {},
   "outputs": [],
   "source": [
    "# import libraries\n",
    "import pandas as pd\n",
    "import numpy as np\n",
    "import sqlalchemy as db\n",
    "import psycopg2\n",
    "import pandas as pd\n",
    "import time\n",
    "import random\n",
    "import spotipy\n",
    "from spotipy.oauth2 import SpotifyClientCredentials"
   ]
  },
  {
   "cell_type": "code",
   "execution_count": 2,
   "id": "e9f52546",
   "metadata": {},
   "outputs": [],
   "source": [
    "# Set your Spotify API credentials - Vigs\n",
    "client_id = 'e6d6060806824f65b988d05e2c6a5a74'\n",
    "client_secret = '3aa225c62c1542a6b1dce64fa69d18d4'\n",
    "\n",
    "# Initialize Spotify client\n",
    "sp = spotipy.Spotify(client_credentials_manager=SpotifyClientCredentials(client_id, client_secret))"
   ]
  },
  {
   "cell_type": "code",
   "execution_count": 3,
   "id": "a7ad6706",
   "metadata": {},
   "outputs": [],
   "source": [
    "# Connect to DB in elephant SQL\n",
    "db_params = {\n",
    "    \"host\": \"rain.db.elephantsql.com\",\n",
    "    \"dbname\": \"auspovuc\", \n",
    "    \"user\": \"auspovuc\",  \n",
    "    \"password\": \"bmJdG19Daw9rkEsJ3VnkefRGCBF_oy7F\",  \n",
    "}\n",
    "\n",
    "conn = psycopg2.connect(**db_params)\n",
    "cur = conn.cursor()"
   ]
  },
  {
   "cell_type": "code",
   "execution_count": 9,
   "id": "9e265694",
   "metadata": {},
   "outputs": [
    {
     "name": "stdout",
     "output_type": "stream",
     "text": [
      "0.0\n"
     ]
    }
   ],
   "source": [
    "#View creation walkthrough, Do not run yet : (Add if exist statement)\n",
    "\n",
    "start = time.process_time()\n",
    "\n",
    "# Declare conditions\n",
    "conditions = ['anxiety', 'depression', 'insomnia', 'ocd']\n",
    "\n",
    "# Declare age_group\n",
    "groups = ['early_years', 'young_adults', 'mature_adults', 'middle_age', 'elderly']\n",
    "\n",
    "# Create Views for each condition and age_group, ranking genres\n",
    "for i in range(len(conditions)):\n",
    "    for n in range(len(groups)):\n",
    "        query = f\"\"\"\n",
    "            CREATE OR REPLACE VIEW {groups[n]}_{conditions[i]}_genre AS(\n",
    "                SELECT a.genre, COUNT(*),\n",
    "                  ROW_NUMBER() OVER(ORDER BY COUNT(*) DESC) AS row_n\n",
    "                FROM (\n",
    "                  SELECT s.respondent, g.*\n",
    "                  FROM survey s                      \n",
    "                  CROSS JOIN LATERAL (\n",
    "                     values (s.freq1, 'freq1'),\n",
    "                            (s.freq2, 'freq2'),\n",
    "                            (s.freq3, 'freq3')\n",
    "                        ) as g(genre, frequency)\n",
    "                WHERE s.{conditions[i]} >= 7\n",
    "                AND age_group = '{groups[n]}') AS a\n",
    "                WHERE a.genre IS NOT NULL\n",
    "                GROUP BY a.genre\n",
    "                )\n",
    "                \"\"\"\n",
    "        cur.execute(query,)\n",
    "        conn.commit()\n",
    "\n",
    "print(time.process_time() - start)"
   ]
  },
  {
   "cell_type": "code",
   "execution_count": 10,
   "id": "7004a6d6",
   "metadata": {},
   "outputs": [
    {
     "name": "stdout",
     "output_type": "stream",
     "text": [
      "Please indicate your age group:\n",
      "  1.0-17 \n",
      "  2.18-34 \n",
      "  3.35-59 \n",
      "  4.60-74 \n",
      "  5.76 and above\n",
      "Enter a number: 4\n"
     ]
    }
   ],
   "source": [
    "# Ask user's age_group\n",
    "age = input('Please indicate your age group:\\n  1.0-17 \\n  2.18-34 \\n  3.35-59 \\n  4.60-74 \\n  5.76 and above\\nEnter a number: ')"
   ]
  },
  {
   "cell_type": "code",
   "execution_count": 11,
   "id": "7b4382cb",
   "metadata": {},
   "outputs": [
    {
     "name": "stdout",
     "output_type": "stream",
     "text": [
      "How are you feeling today (select a number)?\n",
      "  1.Anxious \n",
      "  2.Depressed \n",
      "  3.Can't sleep \n",
      "  4.I have OCD \n",
      "  5.I feel great!\n",
      "Enter a number: 3\n"
     ]
    }
   ],
   "source": [
    "# Ask if user has any of the 4 conditions\n",
    "feels = input('How are you feeling today (select a number)?\\n  1.Anxious \\n  2.Depressed \\n  3.Can\\'t sleep \\n  4.I have OCD \\n  5.I feel great!\\nEnter a number: ')"
   ]
  },
  {
   "cell_type": "code",
   "execution_count": 12,
   "id": "a6c872d3",
   "metadata": {},
   "outputs": [
    {
     "name": "stdout",
     "output_type": "stream",
     "text": [
      "Have a listen to these songs. They just might make you feel better!\n",
      "\n",
      "                                                   Song  \\\n",
      "0                                Body Like A Back Road   \n",
      "1  WDYW (feat. Lil Uzi Vert, A$AP Ferg & Rich The Kid)   \n",
      "2                That's What I Like (feat. Gucci Mane)   \n",
      "\n",
      "                                           Artist  \\\n",
      "0                                        Sam Hunt   \n",
      "1  Carnage, Lil Uzi Vert, A$AP Ferg, Rich The Kid   \n",
      "2                          Bruno Mars, Gucci Mane   \n",
      "\n",
      "                                           Album    Genre  \\\n",
      "0                          Body Like A Back Road  hip-hop   \n",
      "1                                     Papi Gordo  hip-hop   \n",
      "2  That's What I Like (feat. Gucci Mane) [Remix]  hip-hop   \n",
      "\n",
      "                                                                                                   Preview URL  \n",
      "0                                                                                                         None  \n",
      "1  https://p.scdn.co/mp3-preview/bf96da11674268347dde13d8eb5ae08a7ffc1ec4?cid=6c2ff081fe494968a2e3a618c678fd62  \n",
      "2  https://p.scdn.co/mp3-preview/4312c6d2dffc563f4e0bb3640cbf6de89bf750cc?cid=6c2ff081fe494968a2e3a618c678fd62  \n"
     ]
    }
   ],
   "source": [
    "# Define conditions\n",
    "conditions = ['anxiety', 'depression', 'insomnia', 'ocd']\n",
    "\n",
    "# Define age_group\n",
    "groups = ['early_years', 'young_adults', 'mature_adults', 'middle_age', 'elderly']\n",
    "\n",
    "# Ensure print dataframe with full column width for url display without truncation\n",
    "pd.set_option('display.max_colwidth', None)  \n",
    "\n",
    "# look for top choice of genre based on user input (*SQL INJECTION RISK)\n",
    "if feels in ['1', '2', '3', '4']:\n",
    "    if age in ['1', '2', '3', '4', '5']:\n",
    "        x = int(feels)\n",
    "        y = int(age)\n",
    "        # query recommended_tracks for genre from specified view\n",
    "        cur.execute(f\"\"\"\n",
    "                SELECT t.track_name, t.artist, t.album, t.genre, t.preview_url \n",
    "                FROM recommended_tracks t\n",
    "                JOIN {groups[y-1]}_{conditions[x-1]}_genre a\n",
    "                ON a.genre = t.genre\n",
    "                WHERE a.row_n = 1 ;\n",
    "                \"\"\")\n",
    "        conn.commit()\n",
    "        result = cur.fetchall()\n",
    "        #convert result to a dataframe and print    \n",
    "        df = pd.DataFrame(result, columns=['Song', 'Artist', 'Album', 'Genre', 'Preview URL'])\n",
    "        print('Have a listen to these songs. They just might make you feel better!\\n\\n', df)\n",
    "    else:\n",
    "        print('Hmm, you\\'re good, you don\\'t need help.')\n",
    "    \n",
    "elif feels == '5':\n",
    "    # Define seed genres\n",
    "    seed_genres = ['pagode']\n",
    "    # Get recommended tracks for each seed genre\n",
    "    for seed_genre in seed_genres:\n",
    "        recommended_tracks = sp.recommendations(seed_genres=[seed_genre], limit=3, country=\"SG\")\n",
    "        for track in recommended_tracks[\"tracks\"]:\n",
    "            track_data = {\n",
    "                        \"track_name\": track[\"name\"],\n",
    "                        \"artist\": \", \".join(artist[\"name\"] for artist in track[\"artists\"]),\n",
    "                        \"album\": track[\"album\"][\"name\"],\n",
    "                        \"genre\": seed_genre,\n",
    "                        \"preview_url\": track[\"preview_url\"]\n",
    "                            }\n",
    "        # Create a DataFrame from the track data, suggest random track from top 3\n",
    "        random_track = {random.randint(0,3)}\n",
    "        df = pd.DataFrame(track_data, index=[random_track])\n",
    "        print('Check this out!\\n', df)\n",
    "else:\n",
    "    print('Hmm, you\\'re good, you don\\'t need help.')"
   ]
  },
  {
   "cell_type": "code",
   "execution_count": null,
   "id": "411df078",
   "metadata": {},
   "outputs": [],
   "source": [
    "# close connection to db\n",
    "conn.close()"
   ]
  }
 ],
 "metadata": {
  "kernelspec": {
   "display_name": "Python 3 (ipykernel)",
   "language": "python",
   "name": "python3"
  },
  "language_info": {
   "codemirror_mode": {
    "name": "ipython",
    "version": 3
   },
   "file_extension": ".py",
   "mimetype": "text/x-python",
   "name": "python",
   "nbconvert_exporter": "python",
   "pygments_lexer": "ipython3",
   "version": "3.9.12"
  }
 },
 "nbformat": 4,
 "nbformat_minor": 5
}
