{
 "cells": [
  {
   "cell_type": "code",
   "execution_count": null,
   "id": "9158121a",
   "metadata": {},
   "outputs": [],
   "source": [
    "# Import Libraries\n",
    "import pandas as pd\n",
    "import numpy as np\n",
    "import sqlalchemy as db \n",
    "\n",
    "total_import = 0\n",
    "\n",
    "# Table csv: mxmh_survey_results\n",
    "df = pd.read_csv('mxmh_survey_results.csv')"
   ]
  },
  {
   "cell_type": "code",
   "execution_count": null,
   "id": "736776e7",
   "metadata": {},
   "outputs": [],
   "source": [
    "df=df.drop_duplicates()\n",
    "df"
   ]
  },
  {
   "cell_type": "code",
   "execution_count": null,
   "id": "bef4f788",
   "metadata": {},
   "outputs": [],
   "source": [
    "df.info()"
   ]
  },
  {
   "cell_type": "code",
   "execution_count": null,
   "id": "ec68e229",
   "metadata": {},
   "outputs": [],
   "source": [
    "# The age groups and their corresponding ranges\n",
    "age_bins = [0, 18, 30, 50, 100]\n",
    "age_labels = ['0-18', '19-30', '31-50', '51-100']\n",
    "\n",
    "# Add a new column 'age_group' based on the age bins\n",
    "df['age_group'] = pd.cut(df['Age'], bins=age_bins, labels=age_labels, right=False)\n",
    "\n",
    "# Display the DataFrame with the new 'age_group' column\n",
    "print(df)"
   ]
  },
  {
   "cell_type": "code",
   "execution_count": null,
   "id": "bcf1dedc",
   "metadata": {},
   "outputs": [],
   "source": [
    "# Clean column names: strip leading/trailing whitespaces, convert to lowercase, replace spaces with underscores\n",
    "df.columns = df.columns.str.strip().str.lower().str.replace(' ', '_')\n",
    "\n",
    "# Remove any leading/trailing whitespaces in the 'primary_streaming_service' column\n",
    "df['primary_streaming_service'] = df['primary_streaming_service'].str.strip()\n",
    "\n",
    "# Replace 'I do not use a streaming service.' with NaN in the 'primary_streaming_service' column\n",
    "df['primary_streaming_service'] = df['primary_streaming_service'].replace('I do not use a streaming service.', pd.NA)\n",
    "\n",
    "# Convert 'timestamp' column to datetime format\n",
    "#df['timestamp'] = pd.to_datetime(df['timestamp'], errors='coerce')\n",
    "\n",
    "# Remove square brackets [] from column names\n",
    "df.columns = df.columns.str.replace(r'\\[|\\]', '')\n",
    "\n",
    "# Fill missing values in numeric columns with mean or median\n",
    "numeric_columns = ['age', 'hours_per_day', 'bpm', 'anxiety', 'depression', 'insomnia', 'ocd']\n",
    "for column in numeric_columns:\n",
    "    if df[column].dtype == 'float64':\n",
    "        # Fill missing values with the mean\n",
    "        df[column].fillna(df[column].mean(), inplace=True)\n",
    "\n",
    "#Fill missing values in categorical columns with mode\n",
    "categorical_columns = ['primary_streaming_service', 'while_working', 'instrumentalist', 'composer',\n",
    "                       'fav_genre', 'exploratory', 'foreign_languages', 'frequency_[classical]',\n",
    "                       'frequency_[country]', 'frequency_[edm]', 'frequency_[folk]', 'frequency_[gospel]',\n",
    "                       'frequency_[hip_hop]', 'frequency_[jazz]', 'frequency_[k_pop]', 'frequency_[latin]',\n",
    "                       'frequency_[lofi]', 'frequency_[metal]', 'frequency_[pop]', 'frequency_[r&b]',\n",
    "                       'frequency_[rap]', 'frequency_[rock]', 'frequency_[video_game_music]', 'music_effects',\n",
    "                       'permissions']\n",
    "\n",
    "\n",
    "for column in categorical_columns:\n",
    "    if df[column].dtype == 'object':\n",
    "        # Fill missing values with the mode\n",
    "        df[column].fillna(df[column].mode()[0], inplace=True)\n",
    "\n",
    "# Write the cleaned data to a new CSV file\n",
    "df.to_csv('cleaned_data.csv', index=False)\n",
    "df"
   ]
  }
 ],
 "metadata": {
  "kernelspec": {
   "display_name": "Python 3 (ipykernel)",
   "language": "python",
   "name": "python3"
  },
  "language_info": {
   "codemirror_mode": {
    "name": "ipython",
    "version": 3
   },
   "file_extension": ".py",
   "mimetype": "text/x-python",
   "name": "python",
   "nbconvert_exporter": "python",
   "pygments_lexer": "ipython3",
   "version": "3.11.5"
  }
 },
 "nbformat": 4,
 "nbformat_minor": 5
}
