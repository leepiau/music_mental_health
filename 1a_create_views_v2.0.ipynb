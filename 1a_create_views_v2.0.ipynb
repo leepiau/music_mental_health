{
 "cells": [
  {
   "cell_type": "markdown",
   "id": "a02a5dc0",
   "metadata": {},
   "source": [
    "# Import libraries"
   ]
  },
  {
   "cell_type": "code",
   "execution_count": null,
   "id": "0bd06c3b",
   "metadata": {},
   "outputs": [],
   "source": [
    "import psycopg2\n",
    "import pandas as pd\n",
    "import time"
   ]
  },
  {
   "cell_type": "markdown",
   "id": "535f8180",
   "metadata": {},
   "source": [
    "# Connect to DB"
   ]
  },
  {
   "cell_type": "code",
   "execution_count": null,
   "id": "745eaef4",
   "metadata": {},
   "outputs": [],
   "source": [
    "# Connect to PostgreSQL database\n",
    "db_params = {\n",
    "    \"host\": \"rain.db.elephantsql.com\",\n",
    "    \"dbname\": \"auspovuc\",  # Replace with your desired database name\n",
    "    \"user\": \"auspovuc\",  # Replace with your PostgreSQL username\n",
    "    \"password\": \"bmJdG19Daw9rkEsJ3VnkefRGCBF_oy7F\",  # Replace with your PostgreSQL password\n",
    "}\n",
    "\n",
    "conn = psycopg2.connect(**db_params)\n",
    "cur = conn.cursor()"
   ]
  },
  {
   "cell_type": "markdown",
   "id": "08c1cc78",
   "metadata": {},
   "source": [
    "# Create Views - Ranked genre Per age_group Per condition "
   ]
  },
  {
   "cell_type": "code",
   "execution_count": null,
   "id": "066f26b3",
   "metadata": {},
   "outputs": [],
   "source": [
    "start = time.process_time()\n",
    "\n",
    "# Declare conditions\n",
    "conditions = ['anxiety', 'depression', 'insomnia', 'ocd']\n",
    "\n",
    "# Declare age_group\n",
    "groups = ['early_years', 'young_adults', 'mature_adults', 'middle_age', 'elderly']\n",
    "\n",
    "# Create Views for each condition and age_group, ranking genres\n",
    "for i in range(len(conditions)):\n",
    "    for n in range(len(groups)):\n",
    "        query = f\"\"\"\n",
    "            CREATE OR REPLACE VIEW {groups[n]}_{conditions[i]}_genre AS(\n",
    "                SELECT a.genre, COUNT(*),\n",
    "                  ROW_NUMBER() OVER(ORDER BY COUNT(*) DESC) AS row_n\n",
    "                FROM (\n",
    "                  SELECT s.respondent, g.*\n",
    "                  FROM survey s\n",
    "                  CROSS JOIN LATERAL (\n",
    "                     values (s.freq1, 'freq1'),\n",
    "                            (s.freq2, 'freq2'),\n",
    "                            (s.freq3, 'freq3')\n",
    "                        ) as g(genre, frequency)\n",
    "                WHERE s.{conditions[i]} >= 7\n",
    "                AND age_group = '{groups[n]}') AS a\n",
    "                WHERE a.genre IS NOT NULL\n",
    "                GROUP BY a.genre\n",
    "                )\n",
    "                \"\"\"\n",
    "        cur.execute(query,)\n",
    "        conn.commit()\n",
    "\n",
    "print(time.process_time() - start)"
   ]
  },
  {
   "cell_type": "markdown",
   "id": "f122a341",
   "metadata": {},
   "source": [
    "# Check Views Created"
   ]
  },
  {
   "cell_type": "code",
   "execution_count": null,
   "id": "7fb355e9",
   "metadata": {},
   "outputs": [],
   "source": [
    "# Check that views were created\n",
    "query = f\"\"\"\n",
    "            SELECT table_name\n",
    "            FROM information_schema.views\n",
    "            WHERE table_schema NOT IN ('pg_catalog', 'information_schema')\n",
    "            AND table_name !='pg_stat_statements'\n",
    "            ORDER BY table_name\n",
    "            \"\"\"\n",
    "cur.execute(query,)\n",
    "conn.commit()\n",
    "results = cur.fetchall()\n",
    "print(*results, sep='\\n')"
   ]
  },
  {
   "cell_type": "markdown",
   "id": "3ab547eb",
   "metadata": {},
   "source": [
    "# Close connection"
   ]
  },
  {
   "cell_type": "code",
   "execution_count": null,
   "id": "14772e78",
   "metadata": {},
   "outputs": [],
   "source": [
    "# close connection to db\n",
    "conn.close()"
   ]
  }
 ],
 "metadata": {
  "kernelspec": {
   "display_name": "Python 3 (ipykernel)",
   "language": "python",
   "name": "python3"
  },
  "language_info": {
   "codemirror_mode": {
    "name": "ipython",
    "version": 3
   },
   "file_extension": ".py",
   "mimetype": "text/x-python",
   "name": "python",
   "nbconvert_exporter": "python",
   "pygments_lexer": "ipython3",
   "version": "3.11.5"
  }
 },
 "nbformat": 4,
 "nbformat_minor": 5
}
