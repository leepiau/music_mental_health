{
 "cells": [
  {
   "cell_type": "code",
   "execution_count": 1,
   "id": "9b451364",
   "metadata": {},
   "outputs": [],
   "source": [
    "import requests\n",
    "import json "
   ]
  },
  {
   "cell_type": "code",
   "execution_count": 2,
   "id": "2b83004a",
   "metadata": {},
   "outputs": [],
   "source": [
    "# Define the API endpoint\n",
    "url = \"https://accounts.spotify.com/api/token\""
   ]
  },
  {
   "cell_type": "code",
   "execution_count": 3,
   "id": "b7dffb24",
   "metadata": {},
   "outputs": [],
   "source": [
    "# Define the payload data\n",
    "# Your credentials here\n",
    "data = {\n",
    "    \"grant_type\": \"client_credentials\",\n",
    "    \"client_id\": \"6c2ff081fe494968a2e3a618c678fd62\",\n",
    "    \"client_secret\": \"99da4179a82f4f999058535d8d9b47dc\"\n",
    "}"
   ]
  },
  {
   "cell_type": "code",
   "execution_count": 4,
   "id": "4a2e1f6d",
   "metadata": {},
   "outputs": [],
   "source": [
    "# Make a POST request\n",
    "response = requests.post(url, data=data)\n",
    "# Parse the JSON data returned\n",
    "parsed_data = json.loads(response.content.decode(\"utf-8\"))\n",
    "# Extract the access token\n",
    "access_token = parsed_data[\"access_token\"]"
   ]
  },
  {
   "cell_type": "code",
   "execution_count": 5,
   "id": "02f62891",
   "metadata": {},
   "outputs": [],
   "source": [
    "def search_by_genre(genre):\n",
    "    genre.replace(\" \", \"+\")\n",
    "    # Endpoint for playlist search by keyword\n",
    "    url = f'https://api.spotify.com/v1/recommendations?limit=1&seed_genres={genre}'\n",
    "    headers = {\"Authorization\": f\"Bearer {access_token}\"}\n",
    "    # Make a GET request\n",
    "    response = requests.get(url, headers=headers)\n",
    "    # Parse return as a json file\n",
    "    parsed_data = json.loads(response.content.decode(\"utf-8\"))\n",
    "    # Find name of playlist\n",
    "    track_name = parsed_data[\"tracks\"][0][\"album\"][\"artists\"][0][\"name\"]\n",
    "    # Find spotify url of playlist\n",
    "    track_url = parsed_data[\"tracks\"][0][\"album\"][\"artists\"][0][\"external_urls\"][\"spotify\"]\n",
    "    print(track_name,'\\n',track_url)"
   ]
  },
  {
   "cell_type": "code",
   "execution_count": 6,
   "id": "392ca07b",
   "metadata": {},
   "outputs": [],
   "source": [
    "def get_playlist(keyword):\n",
    "    keyword.replace(\" \", \"+\")\n",
    "    # Endpoint for playlist search by keyword\n",
    "    url = f'https://api.spotify.com/v1/search?q={keyword}&type=playlist&limit=1&include_external=audio'\n",
    "    headers = {\"Authorization\": f\"Bearer {access_token}\"}\n",
    "    # Make a GET request\n",
    "    response = requests.get(url, headers=headers)\n",
    "    # Parse return as a json file\n",
    "    parsed_data = json.loads(response.content.decode(\"utf-8\"))\n",
    "    # Find name of playlist\n",
    "    track_name = parsed_data[\"playlists\"][\"items\"][0][\"name\"]\n",
    "    # Find spotify url of playlist\n",
    "    track_url = parsed_data[\"playlists\"][\"items\"][0][\"external_urls\"][\"spotify\"]\n",
    "    print(track_name,'\\n',track_url)"
   ]
  },
  {
   "cell_type": "code",
   "execution_count": 7,
   "id": "8909a44e",
   "metadata": {},
   "outputs": [
    {
     "name": "stdout",
     "output_type": "stream",
     "text": [
      "Asian Rap/Trap \n",
      " https://open.spotify.com/playlist/1ubZ3Fl360vULU27qGb5MM\n"
     ]
    }
   ],
   "source": [
    "get_playlist('asian rap')"
   ]
  },
  {
   "cell_type": "code",
   "execution_count": null,
   "id": "1632c439",
   "metadata": {},
   "outputs": [],
   "source": [
    "search_by_genre('asian rap')"
   ]
  }
 ],
 "metadata": {
  "kernelspec": {
   "display_name": "Python 3 (ipykernel)",
   "language": "python",
   "name": "python3"
  },
  "language_info": {
   "codemirror_mode": {
    "name": "ipython",
    "version": 3
   },
   "file_extension": ".py",
   "mimetype": "text/x-python",
   "name": "python",
   "nbconvert_exporter": "python",
   "pygments_lexer": "ipython3",
   "version": "3.11.5"
  }
 },
 "nbformat": 4,
 "nbformat_minor": 5
}
