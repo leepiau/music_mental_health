{
 "cells": [
  {
   "cell_type": "markdown",
   "id": "a02a5dc0",
   "metadata": {},
   "source": [
    "# Import libraries"
   ]
  },
  {
   "cell_type": "code",
   "execution_count": null,
   "id": "0bd06c3b",
   "metadata": {},
   "outputs": [],
   "source": [
    "import psycopg2\n",
    "import pandas as pd\n",
    "import random\n",
    "import spotipy\n",
    "from spotipy.oauth2 import SpotifyClientCredentials\n",
    "import time"
   ]
  },
  {
   "cell_type": "markdown",
   "id": "54430e8e",
   "metadata": {},
   "source": [
    "# Initialize Spotify client"
   ]
  },
  {
   "cell_type": "code",
   "execution_count": null,
   "id": "991c99b2",
   "metadata": {},
   "outputs": [],
   "source": [
    "# Set your Spotify API credentials\n",
    "client_id = '6c2ff081fe494968a2e3a618c678fd62'\n",
    "client_secret = '99da4179a82f4f999058535d8d9b47dc'\n",
    "\n",
    "# Initialize Spotify client\n",
    "sp = spotipy.Spotify(client_credentials_manager=SpotifyClientCredentials(client_id, client_secret))"
   ]
  },
  {
   "cell_type": "markdown",
   "id": "535f8180",
   "metadata": {},
   "source": [
    "# Connect to DB"
   ]
  },
  {
   "cell_type": "code",
   "execution_count": null,
   "id": "745eaef4",
   "metadata": {},
   "outputs": [],
   "source": [
    "# Connect to DB\n",
    "db_params = {\n",
    "    \"host\": \"rain.db.elephantsql.com\",\n",
    "    \"dbname\": \"auspovuc\",  # Replace with your desired database name\n",
    "    \"user\": \"auspovuc\",  # Replace with your PostgreSQL username\n",
    "    \"password\": \"bmJdG19Daw9rkEsJ3VnkefRGCBF_oy7F\",  # Replace with your PostgreSQL password\n",
    "}\n",
    "\n",
    "conn = psycopg2.connect(**db_params)\n",
    "cur = conn.cursor()"
   ]
  },
  {
   "cell_type": "markdown",
   "id": "8f5a0941",
   "metadata": {},
   "source": [
    "# Request user input"
   ]
  },
  {
   "cell_type": "code",
   "execution_count": 1,
   "id": "5a53bb98",
   "metadata": {},
   "outputs": [
    {
     "name": "stdout",
     "output_type": "stream",
     "text": [
      "Please indicate your age group:\n",
      "  1.0-17 \n",
      "  2.18-34 \n",
      "  3.35-59 \n",
      "  4.60-74 \n",
      "  5.76 and above\n",
      "Enter a number: 1\n"
     ]
    }
   ],
   "source": [
    "# Ask user's age_group\n",
    "age = input('Please indicate your age group:\\n  1.0-17 \\n  2.18-34 \\n  3.35-59 \\n  4.60-74 \\n  5.76 and above\\nEnter a number: ')"
   ]
  },
  {
   "cell_type": "code",
   "execution_count": 2,
   "id": "279e4c7b",
   "metadata": {
    "scrolled": true
   },
   "outputs": [
    {
     "name": "stdout",
     "output_type": "stream",
     "text": [
      "How are you feeling today (select a number)?\n",
      "  1.Anxious \n",
      "  2.Depressed \n",
      "  3.Can't sleep \n",
      "  4.I have OCD \n",
      "  5.I feel great!\n",
      "Enter a number: 2\n"
     ]
    }
   ],
   "source": [
    "# Ask if user has any of the 4 conditions\n",
    "feels = input('How are you feeling today (select a number)?\\n  1.Anxious \\n  2.Depressed \\n  3.Can\\'t sleep \\n  4.I have OCD \\n  5.I feel great!\\nEnter a number: ')"
   ]
  },
  {
   "cell_type": "markdown",
   "id": "1fb493bb",
   "metadata": {},
   "source": [
    "# Suggest track(s) according to input"
   ]
  },
  {
   "cell_type": "code",
   "execution_count": null,
   "id": "3517b96c",
   "metadata": {},
   "outputs": [],
   "source": [
    "# Declare conditions\n",
    "conditions = ['anxiety', 'depression', 'insomnia', 'ocd']\n",
    "\n",
    "# Declare age_group\n",
    "groups = ['early_years', 'young_adults', 'mature_adults', 'middle_age', 'elderly']\n",
    "\n",
    "# Ensure print dataframe with full column width for url display\n",
    "pd.set_option('display.max_colwidth', None)  \n",
    "\n",
    "# look for top choice of genre based on user input (*SQL INJECTION RISK)\n",
    "if feels in ['1', '2', '3', '4']:\n",
    "    if age in ['1', '2', '3', '4', '5']:\n",
    "        x = int(feels)\n",
    "        y = int(age)\n",
    "        # query recommended_tracks for genre from specified view\n",
    "        cur.execute(f\"\"\"\n",
    "                SELECT t.track_name, t.artist, t.album, t.genre, t.preview_url \n",
    "                FROM recommended_tracks t\n",
    "                JOIN {groups[y-1]}_{conditions[x-1]}_genre a\n",
    "                ON a.genre = t.genre\n",
    "                WHERE a.row_n = 1 ;\n",
    "                \"\"\")\n",
    "        conn.commit()\n",
    "        result = cur.fetchall()\n",
    "        #convert result to a dataframe and print    \n",
    "        df = pd.DataFrame(result, columns=['Song', 'Artist', 'Album', 'Genre', 'Preview URL'])\n",
    "        print('Have a listen to these songs. They just might make you feel better!\\n\\n', df)\n",
    "    else:\n",
    "        print('Hmm, you\\'re good, you don\\'t need help.')\n",
    "    \n",
    "elif feels == '5':\n",
    "    # Define seed genres\n",
    "    seed_genres = ['pagode']\n",
    "    # Get recommended tracks for each seed genre\n",
    "    for seed_genre in seed_genres:\n",
    "        recommended_tracks = sp.recommendations(seed_genres=[seed_genre], limit=3, country=\"SG\")\n",
    "        for track in recommended_tracks[\"tracks\"]:\n",
    "            track_data = {\n",
    "                        \"track_name\": track[\"name\"],\n",
    "                        \"artist\": \", \".join(artist[\"name\"] for artist in track[\"artists\"]),\n",
    "                        \"album\": track[\"album\"][\"name\"],\n",
    "                        \"genre\": seed_genre,\n",
    "                        \"preview_url\": track[\"preview_url\"]\n",
    "                            }\n",
    "        # Create a DataFrame from the track data, suggest random track from top 3\n",
    "        random_track = {random.randint(0,3)}\n",
    "        df = pd.DataFrame(track_data, index=[random_track])\n",
    "        print('Check this out!\\n', df)\n",
    "else:\n",
    "    print('Hmm, you\\'re good, you don\\'t need help.')"
   ]
  },
  {
   "cell_type": "markdown",
   "id": "3ab547eb",
   "metadata": {},
   "source": [
    "# Close connection"
   ]
  },
  {
   "cell_type": "code",
   "execution_count": null,
   "id": "14772e78",
   "metadata": {},
   "outputs": [],
   "source": [
    "# close connection to db\n",
    "conn.close()"
   ]
  }
 ],
 "metadata": {
  "kernelspec": {
   "display_name": "Python 3 (ipykernel)",
   "language": "python",
   "name": "python3"
  },
  "language_info": {
   "codemirror_mode": {
    "name": "ipython",
    "version": 3
   },
   "file_extension": ".py",
   "mimetype": "text/x-python",
   "name": "python",
   "nbconvert_exporter": "python",
   "pygments_lexer": "ipython3",
   "version": "3.11.5"
  }
 },
 "nbformat": 4,
 "nbformat_minor": 5
}
