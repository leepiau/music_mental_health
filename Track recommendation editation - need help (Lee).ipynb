{
 "cells": [
  {
   "cell_type": "code",
   "execution_count": 29,
   "id": "afa74b62",
   "metadata": {},
   "outputs": [],
   "source": [
    "# import libraries\n",
    "import pandas as pd\n",
    "import numpy as np\n",
    "import sqlalchemy as db\n",
    "import psycopg2\n",
    "import pandas as pd\n",
    "import time\n",
    "import random\n",
    "import spotipy\n",
    "from spotipy.oauth2 import SpotifyClientCredentials"
   ]
  },
  {
   "cell_type": "code",
   "execution_count": 30,
   "id": "e9f52546",
   "metadata": {},
   "outputs": [],
   "source": [
    "# Set your Spotify API credentials - Vigs\n",
    "client_id = 'e6d6060806824f65b988d05e2c6a5a74'\n",
    "client_secret = '3aa225c62c1542a6b1dce64fa69d18d4'\n",
    "\n",
    "# Initialize Spotify client\n",
    "sp = spotipy.Spotify(client_credentials_manager=SpotifyClientCredentials(client_id, client_secret))"
   ]
  },
  {
   "cell_type": "code",
   "execution_count": 31,
   "id": "a7ad6706",
   "metadata": {},
   "outputs": [
    {
     "name": "stdout",
     "output_type": "stream",
     "text": [
      "Connected to the database!\n"
     ]
    }
   ],
   "source": [
    "# Database connection parameters\n",
    "db_params = {\n",
    "    \"host\": \"localhost\",\n",
    "    \"dbname\": \"musicdb\",       # Replace with your desired database name\n",
    "    \"user\": \"postgres\",      # Replace with your PostgreSQL username\n",
    "    \"password\": \"admin\",     # Replace with your PostgreSQL password\n",
    "    \"port\": \"5432\"           # Replace with your PostgreSQL port\n",
    "}\n",
    "\n",
    "# Establish connection to the PostgreSQL database\n",
    "try:\n",
    "    conn = psycopg2.connect(**db_params)\n",
    "    print(\"Connected to the database!\")\n",
    "    \n",
    "    # Create a cursor\n",
    "    cur = conn.cursor()\n",
    "    \n",
    "    # Now you can proceed with executing SQL queries using the cursor\n",
    "    \n",
    "except (Exception, psycopg2.Error) as error:\n",
    "    print(\"Error while connecting to PostgreSQL:\", error)"
   ]
  },
  {
   "cell_type": "code",
   "execution_count": 32,
   "id": "9e265694",
   "metadata": {},
   "outputs": [
    {
     "name": "stdout",
     "output_type": "stream",
     "text": [
      "Elapsed time: 0.0\n"
     ]
    }
   ],
   "source": [
    "# Import time module\n",
    "import time\n",
    "\n",
    "# Start timer\n",
    "start = time.process_time()\n",
    "\n",
    "# Declare conditions\n",
    "conditions = ['anxiety', 'depression', 'insomnia', 'ocd']\n",
    "\n",
    "# Declare age_group\n",
    "groups = ['early_years', 'young_adults', 'mature_adults', 'middle_age', 'elderly']\n",
    "\n",
    "# Create Views for each condition and age_group, ranking genres\n",
    "for condition in conditions:\n",
    "    for age_group in groups:\n",
    "        view_name = f\"{age_group}_{condition}_genre\"\n",
    "\n",
    "        # Construct SQL query to create view\n",
    "        query = f\"\"\"\n",
    "            CREATE OR REPLACE VIEW {view_name} AS (\n",
    "                SELECT genre, COUNT(*) AS genre_count,\n",
    "                    ROW_NUMBER() OVER(ORDER BY COUNT(*) DESC) AS row_n\n",
    "                FROM (\n",
    "                    SELECT UNNEST(ARRAY[freq1, freq2, freq3]) AS genre\n",
    "                    FROM music_survey\n",
    "                    WHERE {condition} >= 7\n",
    "                    AND age_group = '{age_group}'\n",
    "                ) AS genre_list\n",
    "                WHERE genre IS NOT NULL\n",
    "                GROUP BY genre\n",
    "            )\n",
    "        \"\"\"\n",
    "        \n",
    "        # Execute the query to create the view\n",
    "        cur.execute(query)\n",
    "        conn.commit()\n",
    "\n",
    "# Calculate and print elapsed time\n",
    "print(\"Elapsed time:\", time.process_time() - start)"
   ]
  },
  {
   "cell_type": "code",
   "execution_count": 42,
   "id": "7004a6d6",
   "metadata": {
    "scrolled": true
   },
   "outputs": [
    {
     "name": "stdout",
     "output_type": "stream",
     "text": [
      "Please indicate your age group:\n",
      "  1.0-17 \n",
      "  2.18-34 \n",
      "  3.35-59 \n",
      "  4.60-74 \n",
      "  5.76 and above\n",
      "Enter a number: 1\n"
     ]
    }
   ],
   "source": [
    "# Ask user's age_group\n",
    "age = input('Please indicate your age group:\\n  1.0-17 \\n  2.18-34 \\n  3.35-59 \\n  4.60-74 \\n  5.76 and above\\nEnter a number: ')"
   ]
  },
  {
   "cell_type": "code",
   "execution_count": 43,
   "id": "7b4382cb",
   "metadata": {},
   "outputs": [
    {
     "name": "stdout",
     "output_type": "stream",
     "text": [
      "How are you feeling today (select a number)?\n",
      "  1.Anxious \n",
      "  2.Depressed \n",
      "  3.Can't sleep \n",
      "  4.I have OCD \n",
      "  5.I feel great!\n",
      "Enter a number: 4\n"
     ]
    }
   ],
   "source": [
    "# Ask if user has any of the 4 conditions\n",
    "feels = input('How are you feeling today (select a number)?\\n  1.Anxious \\n  2.Depressed \\n  3.Can\\'t sleep \\n  4.I have OCD \\n  5.I feel great!\\nEnter a number: ')"
   ]
  },
  {
   "cell_type": "code",
   "execution_count": 49,
   "id": "8dc30ee1",
   "metadata": {},
   "outputs": [
    {
     "name": "stdout",
     "output_type": "stream",
     "text": [
      "Have a listen to these songs. They just might make you feel better!\n",
      "\n",
      " Empty DataFrame\n",
      "Columns: [Song, Artist, Album, Genre, Preview URL]\n",
      "Index: []\n"
     ]
    }
   ],
   "source": [
    "# Define conditions\n",
    "conditions = ['anxiety', 'depression', 'insomnia', 'ocd']\n",
    "\n",
    "# Define age_group\n",
    "groups = ['early_years', 'young_adults', 'mature_adults', 'middle_age', 'elderly']\n",
    "\n",
    "# Ensure print dataframe with full column width for url display without truncation\n",
    "pd.set_option('display.max_colwidth', None)  \n",
    "\n",
    "# look for top choice of genre based on user input (*SQL INJECTION RISK)\n",
    "if feels in ['1', '2', '3', '4']:\n",
    "    if age in ['1', '2', '3', '4', '5']:\n",
    "        x = int(feels)\n",
    "        y = int(age)\n",
    "        # query recommended_tracks for genre from specified view\n",
    "        cur.execute(f\"\"\"\n",
    "                SELECT t.track_name, t.artist, t.album, t.genre, t.preview_url \n",
    "                FROM recommended_tracks t\n",
    "                JOIN {groups[y-1]}_{conditions[x-1]}_genre a\n",
    "                ON a.genre = t.genre\n",
    "                WHERE a.row_n = 1 ;\n",
    "                \"\"\")\n",
    "        conn.commit()\n",
    "        result = cur.fetchall()\n",
    "        #convert result to a dataframe and print    \n",
    "        df = pd.DataFrame(result, columns=['Song', 'Artist', 'Album', 'Genre', 'Preview URL'])\n",
    "        print('Have a listen to these songs. They just might make you feel better!\\n\\n', df)\n",
    "    else:\n",
    "        print('Hmm, you\\'re good, you don\\'t need help.')\n",
    "    \n",
    "elif feels == '5':\n",
    "    # Define seed genres\n",
    "    seed_genres = ['pagode']\n",
    "    # Get recommended tracks for each seed genre\n",
    "    for seed_genre in seed_genres:\n",
    "        recommended_tracks = sp.recommendations(seed_genres=[seed_genre], limit=3, country=\"SG\")\n",
    "        for track in recommended_tracks[\"tracks\"]:\n",
    "            track_data = {\n",
    "                        \"track_name\": track[\"name\"],\n",
    "                        \"artist\": \", \".join(artist[\"name\"] for artist in track[\"artists\"]),\n",
    "                        \"album\": track[\"album\"][\"name\"],\n",
    "                        \"genre\": seed_genre,\n",
    "                        \"preview_url\": track[\"preview_url\"]\n",
    "                            }\n",
    "        # Create a DataFrame from the track data, suggest random track from top 3\n",
    "        random_track = {random.randint(0,3)}\n",
    "        df = pd.DataFrame(track_data, index=[random_track])\n",
    "        print('Check this out!\\n', df)\n",
    "else:\n",
    "    print('Hmm, you\\'re good, you don\\'t need help.')"
   ]
  },
  {
   "cell_type": "code",
   "execution_count": null,
   "id": "411df078",
   "metadata": {},
   "outputs": [],
   "source": [
    "# close connection to db\n",
    "conn.close()"
   ]
  }
 ],
 "metadata": {
  "kernelspec": {
   "display_name": "Python 3 (ipykernel)",
   "language": "python",
   "name": "python3"
  },
  "language_info": {
   "codemirror_mode": {
    "name": "ipython",
    "version": 3
   },
   "file_extension": ".py",
   "mimetype": "text/x-python",
   "name": "python",
   "nbconvert_exporter": "python",
   "pygments_lexer": "ipython3",
   "version": "3.9.12"
  }
 },
 "nbformat": 4,
 "nbformat_minor": 5
}
