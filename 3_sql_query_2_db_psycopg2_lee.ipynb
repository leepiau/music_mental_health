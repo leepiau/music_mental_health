{
 "cells": [
  {
   "cell_type": "markdown",
   "id": "a02a5dc0",
   "metadata": {},
   "source": [
    "# Import libraries"
   ]
  },
  {
   "cell_type": "code",
   "execution_count": null,
   "id": "0bd06c3b",
   "metadata": {},
   "outputs": [],
   "source": [
    "import psycopg2\n",
    "import pandas as pd\n",
    "import random\n",
    "import spotipy\n",
    "from spotipy.oauth2 import SpotifyClientCredentials\n",
    "import time"
   ]
  },
  {
   "cell_type": "markdown",
   "id": "54430e8e",
   "metadata": {},
   "source": [
    "# Initialize Spotify client"
   ]
  },
  {
   "cell_type": "code",
   "execution_count": null,
   "id": "991c99b2",
   "metadata": {},
   "outputs": [],
   "source": [
    "# Set your Spotify API credentials\n",
    "client_id = '6c2ff081fe494968a2e3a618c678fd62'\n",
    "client_secret = '99da4179a82f4f999058535d8d9b47dc'\n",
    "\n",
    "# Initialize the Spotipy client\n",
    "sp = spotipy.Spotify(client_credentials_manager=SpotifyClientCredentials(client_id, client_secret))"
   ]
  },
  {
   "cell_type": "markdown",
   "id": "535f8180",
   "metadata": {},
   "source": [
    "# Connect to DB"
   ]
  },
  {
   "cell_type": "code",
   "execution_count": null,
   "id": "745eaef4",
   "metadata": {},
   "outputs": [],
   "source": [
    "# Connect to PostgreSQL database\n",
    "db_params = {\n",
    "    \"host\": \"localhost\",\n",
    "    \"dbname\": \"mmh_1\",  # Replace with your desired database name\n",
    "    \"user\": \"postgres\",  # Replace with your PostgreSQL username\n",
    "    \"password\": \"admin\",  # Replace with your PostgreSQL password\n",
    "    \"port\": \"5432\" # Replace with your PostgreSQL port\n",
    "}\n",
    "conn = psycopg2.connect(**db_params)\n",
    "cur = conn.cursor()"
   ]
  },
  {
   "cell_type": "markdown",
   "id": "08c1cc78",
   "metadata": {},
   "source": [
    "# Create Views ranking genres for each condition"
   ]
  },
  {
   "cell_type": "code",
   "execution_count": null,
   "id": "007a8c53",
   "metadata": {},
   "outputs": [],
   "source": [
    "# Declare conditions\n",
    "conditions = ['anxiety', 'depression', 'insomnia', 'ocd']"
   ]
  },
  {
   "cell_type": "code",
   "execution_count": null,
   "id": "066f26b3",
   "metadata": {},
   "outputs": [],
   "source": [
    "start = time.process_time()\n",
    "# Create Views for each condition, ranking genres\n",
    "for i in range(len(conditions)):\n",
    "    query = f\"\"\"\n",
    "        CREATE OR REPLACE VIEW {conditions[i]}_music AS(\n",
    "            SELECT fav_genre, COUNT(*),\n",
    "                ROW_NUMBER() OVER(ORDER BY COUNT(*) DESC) AS row_n\n",
    "            FROM survey\n",
    "            WHERE {conditions[i]} >= 7\n",
    "            GROUP BY fav_genre\n",
    "            )\n",
    "            \"\"\"\n",
    "    cur.execute(query,)\n",
    "    conn.commit()\n",
    "print(time.process_time() - start)"
   ]
  },
  {
   "cell_type": "markdown",
   "id": "8f5a0941",
   "metadata": {},
   "source": [
    "# Request user input"
   ]
  },
  {
   "cell_type": "code",
   "execution_count": null,
   "id": "279e4c7b",
   "metadata": {
    "scrolled": true
   },
   "outputs": [],
   "source": [
    "# ask user how she feels\n",
    "user_input = input('How are you feeling today (select a number)?\\n  1.Anxious \\n  2.Depressed \\n  3.Can\\'t sleep \\n  4.I have OCD \\n  5.I feel great!\\nEnter a number: ')"
   ]
  },
  {
   "cell_type": "markdown",
   "id": "1fb493bb",
   "metadata": {},
   "source": [
    "# Suggest track(s) according to input"
   ]
  },
  {
   "cell_type": "code",
   "execution_count": null,
   "id": "3517b96c",
   "metadata": {},
   "outputs": [],
   "source": [
    "# look for top choice of genre based on user input (*SQL INJECTION RISK)\n",
    "if user_input in ['1', '2', '3', '4']:\n",
    "    x = int(user_input)\n",
    "    # query fav_genre for anxiety_music\n",
    "    cur.execute(f\"\"\"\n",
    "                SELECT t.track_name, t.artist, t.album, t.genre, t.preview_url \n",
    "                FROM recommended_tracks t\n",
    "                JOIN {conditions[x-1]}_music a\n",
    "                ON a.fav_genre = t.genre\n",
    "                WHERE a.row_n = {random.randint(1,3)};\n",
    "                \"\"\")\n",
    "    conn.commit()\n",
    "    result = cur.fetchall()\n",
    "    #convert result to a dataframe and print    \n",
    "    df = pd.DataFrame(result, columns=['Song', 'Artist', 'Album', 'Genre', 'Preview URL'])\n",
    "    print('Have a listen to these songs. They might just cheer you up!\\n\\n', df)\n",
    "    \n",
    "elif user_input == '5':\n",
    "    # Initialize an empty list to store track data\n",
    "    all_track_data = []\n",
    "    # Define seed genres\n",
    "    seed_genres = ['pagode']\n",
    "    # Get recommended tracks for each seed genre\n",
    "    for seed_genre in seed_genres:\n",
    "        recommended_tracks = sp.recommendations(seed_genres=[seed_genre], limit=1, country=\"SG\")\n",
    "        for track in recommended_tracks[\"tracks\"]:\n",
    "            track_data = {\n",
    "                \"track_name\": track[\"name\"],\n",
    "                \"artist\": \", \".join(artist[\"name\"] for artist in track[\"artists\"]),\n",
    "                \"album\": track[\"album\"][\"name\"],\n",
    "                \"genre\": seed_genre,\n",
    "                \"preview_url\": track[\"preview_url\"]\n",
    "                }\n",
    "            all_track_data.append(track_data)\n",
    "            # Create a DataFrame from the track data\n",
    "            df = pd.DataFrame(all_track_data)\n",
    "            print('Check this out!\\n', df)\n",
    "else:\n",
    "    print('Hmm, you\\'re good, you don\\'t need help.')"
   ]
  },
  {
   "cell_type": "markdown",
   "id": "3ab547eb",
   "metadata": {},
   "source": [
    "# Close connection"
   ]
  },
  {
   "cell_type": "code",
   "execution_count": null,
   "id": "14772e78",
   "metadata": {},
   "outputs": [],
   "source": [
    "# close connection to db\n",
    "conn.close()"
   ]
  },
  {
   "cell_type": "code",
   "execution_count": null,
   "id": "601c5980",
   "metadata": {},
   "outputs": [],
   "source": []
  }
 ],
 "metadata": {
  "kernelspec": {
   "display_name": "Python 3 (ipykernel)",
   "language": "python",
   "name": "python3"
  },
  "language_info": {
   "codemirror_mode": {
    "name": "ipython",
    "version": 3
   },
   "file_extension": ".py",
   "mimetype": "text/x-python",
   "name": "python",
   "nbconvert_exporter": "python",
   "pygments_lexer": "ipython3",
   "version": "3.11.5"
  }
 },
 "nbformat": 4,
 "nbformat_minor": 5
}
